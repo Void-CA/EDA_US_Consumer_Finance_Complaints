{
 "cells": [
  {
   "cell_type": "markdown",
   "metadata": {},
   "source": [
    "# Exploratory Data Analysis on US Consumer Finance Complaints\n",
    "\n",
    "## Introduction\n",
    "This notebook performs exploratory data analysis (EDA) on the US Consumer Finance Complaints dataset. The goal is to understand the nature of the complaints and identify any patterns or trends in the data.\n",
    "\n",
    "## Import Libraries\n"
   ]
  },
  {
   "cell_type": "code",
   "metadata": {
    "ExecuteTime": {
     "end_time": "2024-07-20T01:09:03.482587Z",
     "start_time": "2024-07-20T01:09:03.454911Z"
    }
   },
   "source": [
    "import pandas as pd\n",
    "import numpy as np\n",
    "import matplotlib.pyplot as plt\n",
    "import seaborn as sns\n",
    "import sklearn.cluster\n",
    "from scripts.utility import set_multiple_columns_datatype"
   ],
   "outputs": [
    {
     "ename": "ImportError",
     "evalue": "cannot import name 'set_multiple_columns_datatype' from 'scripts.utility' (C:\\Users\\Ari Castillo\\Documents\\Programas\\Data\\projects\\EDA_US_Consumer_Finance_Complaints\\scripts\\utility.py)",
     "output_type": "error",
     "traceback": [
      "\u001B[1;31m---------------------------------------------------------------------------\u001B[0m",
      "\u001B[1;31mImportError\u001B[0m                               Traceback (most recent call last)",
      "Cell \u001B[1;32mIn[184], line 6\u001B[0m\n\u001B[0;32m      4\u001B[0m \u001B[38;5;28;01mimport\u001B[39;00m \u001B[38;5;21;01mseaborn\u001B[39;00m \u001B[38;5;28;01mas\u001B[39;00m \u001B[38;5;21;01msns\u001B[39;00m\n\u001B[0;32m      5\u001B[0m \u001B[38;5;28;01mimport\u001B[39;00m \u001B[38;5;21;01msklearn\u001B[39;00m\u001B[38;5;21;01m.\u001B[39;00m\u001B[38;5;21;01mcluster\u001B[39;00m\n\u001B[1;32m----> 6\u001B[0m \u001B[38;5;28;01mfrom\u001B[39;00m \u001B[38;5;21;01mscripts\u001B[39;00m\u001B[38;5;21;01m.\u001B[39;00m\u001B[38;5;21;01mutility\u001B[39;00m \u001B[38;5;28;01mimport\u001B[39;00m set_multiple_columns_datatype\n",
      "\u001B[1;31mImportError\u001B[0m: cannot import name 'set_multiple_columns_datatype' from 'scripts.utility' (C:\\Users\\Ari Castillo\\Documents\\Programas\\Data\\projects\\EDA_US_Consumer_Finance_Complaints\\scripts\\utility.py)"
     ]
    }
   ],
   "execution_count": 184
  },
  {
   "cell_type": "markdown",
   "metadata": {},
   "source": [
    "## Load data"
   ]
  },
  {
   "cell_type": "code",
   "metadata": {
    "ExecuteTime": {
     "end_time": "2024-07-20T01:09:03.484597Z",
     "start_time": "2024-07-20T01:09:03.484597Z"
    }
   },
   "source": [
    "# Load the dataset\n",
    "data_path = \"../data/consumer_complaints.csv\"\n",
    "df = pd.read_csv(data_path, dtype={'column_5': str, 'column_11': str}, low_memory=False)\n",
    "df = df.drop(columns=['complaint_id'])\n",
    "\n",
    "#Sampling the data\n",
    "df = df.sample(frac = 0.05)\n",
    "\n",
    "# Display the first few rows of the dataframe\n",
    "df.head()"
   ],
   "outputs": [],
   "execution_count": null
  },
  {
   "cell_type": "code",
   "metadata": {
    "ExecuteTime": {
     "end_time": "2024-07-20T01:09:03.661756Z",
     "start_time": "2024-07-20T01:09:03.509865Z"
    }
   },
   "source": [
    "#Look at the values of each column\n",
    "df.info()"
   ],
   "outputs": [
    {
     "name": "stdout",
     "output_type": "stream",
     "text": [
      "<class 'pandas.core.frame.DataFrame'>\n",
      "Index: 27798 entries, 24977 to 195708\n",
      "Data columns (total 17 columns):\n",
      " #   Column                        Non-Null Count  Dtype \n",
      "---  ------                        --------------  ----- \n",
      " 0   date_received                 27798 non-null  object\n",
      " 1   product                       27798 non-null  object\n",
      " 2   sub_product                   19703 non-null  object\n",
      " 3   issue                         27798 non-null  object\n",
      " 4   sub_issue                     10654 non-null  object\n",
      " 5   consumer_complaint_narrative  3237 non-null   object\n",
      " 6   company_public_response       4179 non-null   object\n",
      " 7   company                       27798 non-null  object\n",
      " 8   state                         27562 non-null  object\n",
      " 9   zipcode                       27574 non-null  object\n",
      " 10  tags                          3802 non-null   object\n",
      " 11  consumer_consent_provided     6040 non-null   object\n",
      " 12  submitted_via                 27798 non-null  object\n",
      " 13  date_sent_to_company          27798 non-null  object\n",
      " 14  company_response_to_consumer  27798 non-null  object\n",
      " 15  timely_response               27798 non-null  object\n",
      " 16  consumer_disputed?            27798 non-null  object\n",
      "dtypes: object(17)\n",
      "memory usage: 3.8+ MB\n"
     ]
    }
   ],
   "execution_count": 185
  },
  {
   "cell_type": "code",
   "metadata": {
    "ExecuteTime": {
     "end_time": "2024-07-20T01:09:03.881432Z",
     "start_time": "2024-07-20T01:09:03.663765Z"
    }
   },
   "source": [
    "#There is too many objects in the df, we need to cast some types in order to improve our model\n",
    "for column in df.columns:\n",
    "    print(f\"Column: {column}, Number of unique Values: {len(df[column].unique())}\\nValues:\\n{df[column].unique()}\")"
   ],
   "outputs": [
    {
     "name": "stdout",
     "output_type": "stream",
     "text": [
      "Column: date_received, Number of unique Values: 1590\n",
      "Values:\n",
      "['12/05/2013' '03/21/2014' '03/20/2014' ... '05/26/2013' '02/23/2013'\n",
      " '04/15/2012']\n",
      "Column: product, Number of unique Values: 11\n",
      "Values:\n",
      "['Debt collection' 'Credit reporting' 'Mortgage' 'Consumer Loan'\n",
      " 'Bank account or service' 'Student loan' 'Credit card' 'Money transfers'\n",
      " 'Prepaid card' 'Payday loan' 'Other financial service']\n",
      "Column: sub_product, Number of unique Values: 44\n",
      "Values:\n",
      "['I do not know' 'Credit card' nan 'FHA mortgage' 'Vehicle loan'\n",
      " 'Conventional fixed mortgage' 'Other (i.e. phone, health club, etc.)'\n",
      " 'Other bank product/service' 'Other mortgage' 'Non-federal student loan'\n",
      " 'Payday loan' 'International money transfer'\n",
      " 'Home equity loan or line of credit' 'Medical' 'Checking account'\n",
      " 'Conventional adjustable mortgage (ARM)' 'Reverse mortgage'\n",
      " 'Second mortgage' 'Installment loan' 'General purpose card'\n",
      " 'Savings account' 'Personal line of credit' 'Auto' 'VA mortgage'\n",
      " 'Federal student loan' 'Vehicle lease' 'Title loan'\n",
      " 'Domestic (US) money transfer' 'Mortgage' 'Money order' 'Pawn loan'\n",
      " '(CD) Certificate of deposit' 'ID prepaid card'\n",
      " 'Cashing a check without an account' 'Government benefit payment card'\n",
      " 'Check cashing' 'Mobile wallet' 'Payroll card' 'Debt settlement'\n",
      " 'Other special purpose card' 'Credit repair' 'Transit card'\n",
      " 'Gift or merchant card' 'Refund anticipation check']\n",
      "Column: issue, Number of unique Values: 90\n",
      "Values:\n",
      "['Improper contact or sharing of info' 'Communication tactics'\n",
      " 'Unable to get credit report/credit score'\n",
      " 'Application, originator, mortgage broker'\n",
      " 'Problems when you are unable to pay'\n",
      " \"Credit reporting company's investigation\"\n",
      " 'Loan modification,collection,foreclosure'\n",
      " \"Cont'd attempts collect debt not owed\"\n",
      " 'Account opening, closing, or management'\n",
      " 'Disclosure verification of debt'\n",
      " 'Incorrect information on credit report'\n",
      " 'Dealing with my lender or servicer' 'Overlimit fee'\n",
      " 'Loan servicing, payments, escrow account' 'Repaying your loan'\n",
      " 'Settlement process and costs' 'Billing disputes'\n",
      " 'Money was not available when promised' 'Rewards' 'Other service issues'\n",
      " 'Problems caused by my funds being low' 'Credit determination'\n",
      " 'Unsolicited issuance of credit card' 'Deposits and withdrawals' 'Other'\n",
      " 'Fraud or scam' 'APR or interest rate' \"Can't repay my loan\"\n",
      " 'Credit decision / Underwriting' 'Using a debit or ATM card'\n",
      " 'Shopping for a loan or lease' 'False statements or representation'\n",
      " 'Balance transfer' 'Delinquent account' 'Closing/Cancelling account'\n",
      " 'Making/receiving payments, sending money'\n",
      " 'Taking/threatening an illegal action'\n",
      " 'Identity theft / Fraud / Embezzlement' 'Managing the line of credit'\n",
      " \"Can't contact lender\" 'Payoff process' 'Collection practices'\n",
      " 'Managing the loan or lease' 'Credit reporting'\n",
      " 'Customer service / Customer relations' 'Getting a loan'\n",
      " 'Improper use of my credit report' 'Collection debt dispute'\n",
      " 'Advertising and marketing' 'Privacy' 'Credit line increase/decrease'\n",
      " \"Charged fees or interest I didn't expect\" 'Fees'\n",
      " 'Unauthorized transactions/trans. issues' 'Other transaction issues'\n",
      " 'Transaction issue' 'Other fee' 'Lost or stolen money order'\n",
      " 'Taking out the loan or lease' 'Adding money'\n",
      " 'Credit card protection / Debt protection'\n",
      " 'Incorrect/missing disclosures or info' 'Account terms and changes'\n",
      " 'Late fee' 'Credit monitoring or identity protection'\n",
      " 'Application processing delay' 'Cash advance fee' 'Convenience checks'\n",
      " 'Billing statement' 'Arbitration' 'Excessive fees' 'Balance transfer fee'\n",
      " 'Wrong amount charged or received' 'Shopping for a line of credit'\n",
      " 'Applied for loan/did not receive money' 'Sale of account'\n",
      " \"Can't stop charges to bank account\" 'Charged bank acct wrong day or amt'\n",
      " \"Received a loan I didn't apply for\"\n",
      " 'Customer service/Customer relations'\n",
      " 'Managing, opening, or closing account' 'Payment to acct not credited'\n",
      " 'Cash advance' 'Bankruptcy' 'Forbearance / Workout plans'\n",
      " 'Unexpected/Other fees' 'Lender repossessed or sold the vehicle'\n",
      " 'Advertising, marketing or disclosures'\n",
      " 'Overdraft, savings or rewards features' 'Disclosures']\n",
      "Column: sub_issue, Number of unique Values: 68\n",
      "Values:\n",
      "['Contacted me after I asked not to' 'Frequent or repeated calls'\n",
      " 'Problem getting report or credit score'\n",
      " 'Talked to a third party about my debt' nan 'Investigation took too long'\n",
      " 'Debt was paid' 'Not given enough info to verify debt'\n",
      " 'Reinserted previously deleted info' 'Account status'\n",
      " 'Received bad information about my loan' 'Repaying your loan'\n",
      " 'Information is not mine' 'Account terms'\n",
      " 'No notice of investigation status/result' 'Debt is not mine'\n",
      " 'Personal information' 'Problems when you are unable to pay'\n",
      " 'Not disclosed as an attempt to collect'\n",
      " \"Can't temporarily postpone payments\" 'Debt resulted from identity theft'\n",
      " 'Attempted to collect wrong amount' 'Inadequate help over the phone'\n",
      " 'Called outside of 8am-9pm' 'Attempted to/Collected exempt funds'\n",
      " 'Sued w/o proper notification of suit' \"Can't contact lender\"\n",
      " 'Threatened to sue on too old debt' \"Can't decrease my monthly payments\"\n",
      " 'Problem getting my free annual report'\n",
      " 'Trouble with how payments are handled' \"Can't qualify for a loan\"\n",
      " 'Problem with statement of dispute'\n",
      " 'Used obscene/profane/abusive language'\n",
      " 'Right to dispute notice not received'\n",
      " 'Debt was discharged in bankruptcy' 'Public record'\n",
      " 'Report improperly shared by CRC'\n",
      " 'Called after sent written cease of comm'\n",
      " 'Indicated committed crime not paying'\n",
      " 'Contacted employer after asked not to'\n",
      " 'Keep getting calls about my loan'\n",
      " 'Having problems with customer service'\n",
      " \"Charged fees or interest I didn't expect\"\n",
      " 'Threatened to take legal action' 'Threatened arrest/jail if do not pay'\n",
      " 'Impersonated an attorney or official' 'Problem with fraud alerts'\n",
      " 'Billing dispute' \"Can't get flexible payment options\"\n",
      " 'Received marketing offer after opted out'\n",
      " 'Problem cancelling or closing account'\n",
      " 'Applied for loan/did not receive money' 'Account terms and changes'\n",
      " \"Can't stop charges to bank account\" 'Charged bank acct wrong day or amt'\n",
      " \"Don't agree with fees charged\" 'Contacted me instead of my attorney'\n",
      " \"Received a loan I didn't apply for\"\n",
      " 'Report shared with employer w/o consent'\n",
      " \"Sued where didn't live/sign for debt\" 'Payment to acct not credited'\n",
      " 'Qualify for a better loan than offered'\n",
      " 'Seized/Attempted to seize property'\n",
      " \"Indicated shouldn't respond to lawsuit\"\n",
      " 'Need information about my balance/terms' 'Getting a loan'\n",
      " 'Receiving unwanted marketing/advertising']\n",
      "Column: consumer_complaint_narrative, Number of unique Values: 3237\n",
      "Values:\n",
      "[nan\n",
      " 'We advised the credit bureaus that XXXX, XXXX XXXX and XXXX furnished them with incomplete and inaccurate information. Review the attached documentation which was sent to each of the aforementioned banks. They detail inaccurate information we were given at he time of hurricane XXXX. The incorrect information was relied upon to make financial decisions we would not have otherwise made. We wrote to each individual bank and have escalated it to the highest level and have filed complaints with the Consumer Protection Agency. We have also filed complaints on-line and made telephone calls directly to each of the credit bureaus. We stated that the information reported by the banks was inaccurate inasmuch as it does not reflect the entire circumstances of events fairly. IT DOES N\\'T TELL THE WHOLE STORY. This is a violation of our rights under the, \" fair credit reporting act. \\'\\' During hurricane XXXX both XXXX and XXXX XXXX verbally authorized via the customer service department a Disaster Relief program and/or moratorium of mortgage payments. At that time, neither bank fully disclosed how the waived payments would be repaid. We were told by both institutions that the missed payments would be added to the end of the loan. Both institutions told us after we had already taken part in the moratorium of mortgage payments that they must be paid in full at he end of the waived period. XXXX involvement is limited to having bought the loan from XXXX and has continued to report us late to the credit bureaus. However, since XXXX took over our loan in XXXX 2014 we have not missed or been late with a mortgage payment. Furthermore, if you research the history of loans with XXXX and XXXX XXXX, you will find that we have never been late or missed a payment and we are not in any foreclosure proceedings. However, the past reporting which still remains on our credit report has caused irreparable damage to our credit scores, my employment and our quality of life in general. \\n'\n",
      " 'Out of necessity I used Money Gram money transfer service to send money international, I pay the fee service required to send money with the promise that will only take 5-15 minutes to be available for the recipient to claimed. It has been more than 10 days and my money does not reflect as being deposit. For the last two weeks I have contact MoneyGram to find out the status of my transfer, which every time I have contact I have been informed that my money is ready and available to be claim, when my recipient tries to claim the money it does not appear available. I have asked MoneyGram for a clear answer, however MoneyGram has not been able to provide me with a clear response as to where my money is or what happened. I requested for my money to be reimburse immediately, I was informed today that it will take 10 days in order for me to get my money back, which is something that does not reflect in their policy. I am a hard working individual, and if used the system is out of necessity, I do not want others to go to the same struggle I am going through. It is not acceptable for MoneyGram to lied about their service, it has cause many troubles with this issue. \\n'\n",
      " ...\n",
      " \"Ocwen Loan Servicing took over my mortgage, and has raised my mortgage payment by more than $ XXXX/month for tax escrow reasons that are untrue. I paid my taxes. I have proof. I have sent this proof to Ocwen by fax, by mail, by certified mail, by phone, by e-mail. They keep raising my monthly rate to the point where I am perpetually behind on my now $ XXXX/month mortgage! I can not pay this rate ; I never signed up for this. Ocwen does n't help ; they just harass me day and night and constantly threaten to foreclose on my home. I am working XXXX jobs, seven days a week. Ocwen is run by criminals! Please help!! \\n\"\n",
      " \"The bank just repossed my car today. They claim the do not have give me written or verbal notice to do so. The bank is Huntington Bank in Ohio. This problem started with them on XXXX/XXXX/15 when I called to reschedule an automatic withdrawal from my checking account to Friday XXXX/XXXX/15. On XXXX or XXXX they took the money out and my account was overdrawn {$350.00} plus fees and other debits there after for total of {$450.00}. However it took them until XXXX to send me a check. I have been behind on my bills and budget since. So today they punish me and take the car.I ca n't believe they can do this without notification. Can you please help? I would like my car back. \\n\"\n",
      " \"I originally had a loan with a cosigner with XXXX XXXX loans. This loan is no longer serviced by XXXX loans and has switched to XXXX XXXX XXXX for its servicing. \\n\\nOver the past week and half, starting on XXXX/XXXX/2015, I began receiving phone calls from the Northland Group. When I would answer the phone they would either hang up on me before speaking or would refuse to tell me why they are calling without giving my personal information over the phone. On Thursday XXXX/XXXX/2015, I spoke with supervisor XXXX XXXX and XXXX XXXX. They confirmed with me that my name was XXXX XXXX and phone number that I called in with. I told them they have no permission to call myself, my girlfriend ( who has nothing to do with this loan ) and my father the cosigner. They acknowledged that they will not call me any further. I asked them if they used an auto dialer and they promptly told me that they can not provide me with that information. I advised them that I am aware of the TCPA laws and they have no permission to call my cell phone using an auto dialer. The supervisors refused to speak to me any further and hung up on me. I called back in and spoke to a normal representative, XXXX XXXX, and he advised me they do use auto dialers and that is how I was called. He confirmed that my number should have been removed on XXXX/XXXX/2015 from their auto dialer. On XXXX/XXXX/2015 I received another auto dialed call from Northland Group. I tried to call the number back and got a disconnected tone. I called their corporate number and was transferred 8 times to ultimately be disconnected when I requested to speak with XXXX XXXX XXXX. I called back through the corporate number and was transferred another 5 times and eventually was directed to XXXX XXXX XXXX 's voicemail. I left a voicemail prompting him to give me a call back. The call was ended. I called back to speak with the supervisor, XXXX XXXX, again having to be transferred multiple times. While trying to reach XXXX, I spoke with another normal representative. I provided her with my name and date of birth and she began to speak to me about my personal private student loan. The amount due and why they were calling me. She advised that the loan was no longer in their office because I had made a payment. When I tried to ask her about why they were calling me in reference to a XXXX loan that was now serviced by XXXX, she said I did not know what I was talking about and refused to answer my questions about the loan. I requested to speak to a supervisor and XXXX XXXX got back on the line. He refused to speak to me or answer my questions. He stated that manager XXXX XXXX would be calling me later that day, XXXX/XXXX/2015, as he had received my voicemail. I asked XXXX to discuss the account with me and would not do so after I verified my date of birth and full name. He stated I had to verify my full mailing address. I advised the previous rep would speak to me and divulge personal non-public information to me after just verifying name and date of birth. He refused to speak to me or answer any further questions and hung up on me. He had stated very clearly that I would receive a phone call from XXXX XXXX, on that day, XXXX/XXXX/2015. I never received that phone call from XXXX XXXX. I did however receive another autodialed phone call on XXXX/XXXX/2015 to my cell phone number. I tried to call the number back, the corporate number, and the New Jersey office line and they all came back as disconnected. I am fed up with being harassed and what this company to pay the consequences for not following TCPA and divulging my personal information after not verifying the correct amount of contact information. This is absolutely absurd they are even in business and they have no right to be calling me or auto dialing my cell phone. Now they wont even allow me to call them to discuss the matter \\n\"]\n",
      "Column: company_public_response, Number of unique Values: 10\n",
      "Values:\n",
      "[nan 'Company chooses not to provide a public response'\n",
      " 'Company believes it acted appropriately as authorized by contract or law'\n",
      " 'Company has responded to the consumer and the CFPB and chooses not to provide a public response'\n",
      " 'Company believes the complaint is the result of a misunderstanding'\n",
      " 'Company believes complaint caused principally by actions of third party outside the control or direction of the company'\n",
      " 'Company disputes the facts presented in the complaint'\n",
      " 'Company believes complaint is the result of an isolated error'\n",
      " \"Company can't verify or dispute the facts in the complaint\"\n",
      " 'Company believes complaint represents an opportunity for improvement to better serve consumers']\n",
      "Column: company, Number of unique Values: 1336\n",
      "Values:\n",
      "['Portfolio Recovery Associates, Inc.' 'William C. Grossman Law, PLLC.'\n",
      " 'Experian' ... 'Trust Financial LLC' 'Optima Recovery Services LLC.'\n",
      " 'Retail Merchants Associates']\n",
      "Column: state, Number of unique Values: 61\n",
      "Values:\n",
      "['MD' 'NY' 'NJ' 'SC' 'FL' 'GA' 'CA' 'TX' 'VA' 'WI' 'NH' 'OR' 'UT' 'AZ'\n",
      " 'CO' 'WV' 'ND' 'MS' 'WA' 'PA' 'MA' 'NC' 'HI' 'MI' 'KS' 'CT' 'MO' 'DC'\n",
      " 'TN' nan 'DE' 'OH' 'AL' 'NM' 'IA' 'IN' 'VT' 'RI' 'NV' 'IL' 'MN' 'MT' 'AR'\n",
      " 'LA' 'OK' 'ME' 'AK' 'ID' 'NE' 'WY' 'KY' 'PR' 'SD' 'AE' 'AP' 'AS' 'VI'\n",
      " 'MH' 'GU' 'FM' 'MP']\n",
      "Column: zipcode, Number of unique Values: 10413\n",
      "Values:\n",
      "['20623' '11703' '08640' ... '89445' '32333' '62449']\n",
      "Column: tags, Number of unique Values: 4\n",
      "Values:\n",
      "['Older American' nan 'Older American, Servicemember' 'Servicemember']\n",
      "Column: consumer_consent_provided, Number of unique Values: 5\n",
      "Values:\n",
      "[nan 'Consent not provided' 'Consent provided' 'Other' 'Consent withdrawn']\n",
      "Column: submitted_via, Number of unique Values: 6\n",
      "Values:\n",
      "['Web' 'Referral' 'Postal mail' 'Phone' 'Fax' 'Email']\n",
      "Column: date_sent_to_company, Number of unique Values: 1464\n",
      "Values:\n",
      "['12/06/2013' '03/27/2014' '04/09/2014' ... '05/28/2012' '03/16/2013'\n",
      " '08/31/2014']\n",
      "Column: company_response_to_consumer, Number of unique Values: 8\n",
      "Values:\n",
      "['Closed with explanation' 'Closed with non-monetary relief'\n",
      " 'Untimely response' 'Closed without relief' 'Closed with monetary relief'\n",
      " 'Closed' 'In progress' 'Closed with relief']\n",
      "Column: timely_response, Number of unique Values: 2\n",
      "Values:\n",
      "['Yes' 'No']\n",
      "Column: consumer_disputed?, Number of unique Values: 2\n",
      "Values:\n",
      "['No' 'Yes']\n"
     ]
    }
   ],
   "execution_count": 186
  },
  {
   "cell_type": "code",
   "metadata": {
    "ExecuteTime": {
     "end_time": "2024-07-20T01:09:03.982231Z",
     "start_time": "2024-07-20T01:09:03.883440Z"
    }
   },
   "source": [
    "    # We are going to correct some data types in order of improving the analysis\n",
    "    column_types = {\n",
    "    'company': 'category',\n",
    "    'company_public_response': 'category',\n",
    "    'company_response_to_consumer': 'category',\n",
    "    'consumer_complaint_narrative': 'string',\n",
    "    'consumer_consent_provided': 'category',\n",
    "    'consumer_disputed?': 'category',\n",
    "    'date_received': 'datetime',\n",
    "    'date_sent_to_company': 'datetime',\n",
    "    'issue': 'category',\n",
    "    'product': 'category',\n",
    "    'state': 'category',\n",
    "    'sub_issue': 'category',\n",
    "    'sub_product': 'category',\n",
    "    'submitted_via': 'category',\n",
    "    'tags': 'category',\n",
    "    'timely_response': 'category',\n",
    "    'zipcode': 'string'\n",
    "}\n",
    "    \n",
    "    df = set_multiple_columns_datatype(df, column_types)"
   ],
   "outputs": [
    {
     "ename": "NameError",
     "evalue": "name 'set_multiple_columns_datatype' is not defined",
     "output_type": "error",
     "traceback": [
      "\u001B[1;31m---------------------------------------------------------------------------\u001B[0m",
      "\u001B[1;31mNameError\u001B[0m                                 Traceback (most recent call last)",
      "Cell \u001B[1;32mIn[187], line 22\u001B[0m\n\u001B[0;32m      1\u001B[0m \u001B[38;5;66;03m# We are going to correct some data types in order of improving the analysis\u001B[39;00m\n\u001B[0;32m      2\u001B[0m column_types \u001B[38;5;241m=\u001B[39m {\n\u001B[0;32m      3\u001B[0m \u001B[38;5;124m'\u001B[39m\u001B[38;5;124mcompany\u001B[39m\u001B[38;5;124m'\u001B[39m: \u001B[38;5;124m'\u001B[39m\u001B[38;5;124mcategory\u001B[39m\u001B[38;5;124m'\u001B[39m,\n\u001B[0;32m      4\u001B[0m \u001B[38;5;124m'\u001B[39m\u001B[38;5;124mcompany_public_response\u001B[39m\u001B[38;5;124m'\u001B[39m: \u001B[38;5;124m'\u001B[39m\u001B[38;5;124mcategory\u001B[39m\u001B[38;5;124m'\u001B[39m,\n\u001B[1;32m   (...)\u001B[0m\n\u001B[0;32m     19\u001B[0m \u001B[38;5;124m'\u001B[39m\u001B[38;5;124mzipcode\u001B[39m\u001B[38;5;124m'\u001B[39m: \u001B[38;5;124m'\u001B[39m\u001B[38;5;124mstring\u001B[39m\u001B[38;5;124m'\u001B[39m\n\u001B[0;32m     20\u001B[0m }\n\u001B[1;32m---> 22\u001B[0m df \u001B[38;5;241m=\u001B[39m \u001B[43mset_multiple_columns_datatype\u001B[49m(df, column_types)\n",
      "\u001B[1;31mNameError\u001B[0m: name 'set_multiple_columns_datatype' is not defined"
     ]
    }
   ],
   "execution_count": 187
  },
  {
   "cell_type": "code",
   "metadata": {},
   "source": [
    "df.info()"
   ],
   "outputs": [],
   "execution_count": null
  },
  {
   "cell_type": "code",
   "metadata": {},
   "source": [
    "df.describe()"
   ],
   "outputs": [],
   "execution_count": null
  },
  {
   "cell_type": "code",
   "metadata": {},
   "source": [
    "df.head()"
   ],
   "outputs": [],
   "execution_count": null
  },
  {
   "cell_type": "code",
   "metadata": {},
   "source": [
    "sns.countplot(data=df, y='company')\n",
    "plt.xticks(rotation=90)\n",
    "plt.show()\n"
   ],
   "outputs": [],
   "execution_count": null
  },
  {
   "cell_type": "code",
   "metadata": {},
   "source": "\n",
   "outputs": [],
   "execution_count": null
  }
 ],
 "metadata": {
  "kernelspec": {
   "display_name": "Python 3 (ipykernel)",
   "language": "python",
   "name": "python3"
  },
  "language_info": {
   "codemirror_mode": {
    "name": "ipython",
    "version": 3
   },
   "file_extension": ".py",
   "mimetype": "text/x-python",
   "name": "python",
   "nbconvert_exporter": "python",
   "pygments_lexer": "ipython3",
   "version": "3.12.2"
  }
 },
 "nbformat": 4,
 "nbformat_minor": 4
}
